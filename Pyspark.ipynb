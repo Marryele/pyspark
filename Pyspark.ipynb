{
  "nbformat": 4,
  "nbformat_minor": 0,
  "metadata": {
    "colab": {
      "name": "Pyspark.ipynb",
      "provenance": [],
      "collapsed_sections": [],
      "authorship_tag": "ABX9TyOzwPFJRAZzhpleFlgwWq0m",
      "include_colab_link": true
    },
    "kernelspec": {
      "name": "python3",
      "display_name": "Python 3"
    },
    "language_info": {
      "name": "python"
    }
  },
  "cells": [
    {
      "cell_type": "markdown",
      "metadata": {
        "id": "view-in-github",
        "colab_type": "text"
      },
      "source": [
        "<a href=\"https://colab.research.google.com/github/Marryele/pyspark/blob/main/Pyspark.ipynb\" target=\"_parent\"><img src=\"https://colab.research.google.com/assets/colab-badge.svg\" alt=\"Open In Colab\"/></a>"
      ]
    },
    {
      "cell_type": "markdown",
      "source": [
        "##tutorial 1 e 2"
      ],
      "metadata": {
        "id": "rCJeDl_JaeuF"
      }
    },
    {
      "cell_type": "code",
      "source": [
        "pip install pyspark"
      ],
      "metadata": {
        "colab": {
          "base_uri": "https://localhost:8080/"
        },
        "id": "ILjKiIO3l9XR",
        "outputId": "8edf458a-431d-4058-e237-141dacff8cbc"
      },
      "execution_count": 1,
      "outputs": [
        {
          "output_type": "stream",
          "name": "stdout",
          "text": [
            "Looking in indexes: https://pypi.org/simple, https://us-python.pkg.dev/colab-wheels/public/simple/\n",
            "Collecting pyspark\n",
            "  Downloading pyspark-3.3.0.tar.gz (281.3 MB)\n",
            "\u001b[K     |████████████████████████████████| 281.3 MB 33 kB/s \n",
            "\u001b[?25hCollecting py4j==0.10.9.5\n",
            "  Downloading py4j-0.10.9.5-py2.py3-none-any.whl (199 kB)\n",
            "\u001b[K     |████████████████████████████████| 199 kB 64.2 MB/s \n",
            "\u001b[?25hBuilding wheels for collected packages: pyspark\n",
            "  Building wheel for pyspark (setup.py) ... \u001b[?25l\u001b[?25hdone\n",
            "  Created wheel for pyspark: filename=pyspark-3.3.0-py2.py3-none-any.whl size=281764026 sha256=a05d138473b08824fb640443f89c4a4ea2d7d7b79c2d62de3efdfbe7d5ceddbe\n",
            "  Stored in directory: /root/.cache/pip/wheels/7a/8e/1b/f73a52650d2e5f337708d9f6a1750d451a7349a867f928b885\n",
            "Successfully built pyspark\n",
            "Installing collected packages: py4j, pyspark\n",
            "Successfully installed py4j-0.10.9.5 pyspark-3.3.0\n"
          ]
        }
      ]
    },
    {
      "cell_type": "code",
      "execution_count": 2,
      "metadata": {
        "id": "ey5tzjCKl3gX"
      },
      "outputs": [],
      "source": [
        "import pyspark\n",
        "import pandas as pd\n",
        "from pyspark.sql import SparkSession"
      ]
    },
    {
      "cell_type": "code",
      "source": [
        "spark = SparkSession.builder.appName('Test').getOrCreate()"
      ],
      "metadata": {
        "id": "i_vRsghRl7EA"
      },
      "execution_count": 3,
      "outputs": []
    },
    {
      "cell_type": "code",
      "source": [
        "spark"
      ],
      "metadata": {
        "colab": {
          "base_uri": "https://localhost:8080/",
          "height": 219
        },
        "id": "cUp6-jTFl8r_",
        "outputId": "eab066e7-0c56-48f0-bca1-62540d1664d4"
      },
      "execution_count": null,
      "outputs": [
        {
          "output_type": "execute_result",
          "data": {
            "text/plain": [
              "<pyspark.sql.session.SparkSession at 0x7f3cf2177290>"
            ],
            "text/html": [
              "\n",
              "            <div>\n",
              "                <p><b>SparkSession - in-memory</b></p>\n",
              "                \n",
              "        <div>\n",
              "            <p><b>SparkContext</b></p>\n",
              "\n",
              "            <p><a href=\"http://4875bd3be74b:4040\">Spark UI</a></p>\n",
              "\n",
              "            <dl>\n",
              "              <dt>Version</dt>\n",
              "                <dd><code>v3.3.0</code></dd>\n",
              "              <dt>Master</dt>\n",
              "                <dd><code>local[*]</code></dd>\n",
              "              <dt>AppName</dt>\n",
              "                <dd><code>Test</code></dd>\n",
              "            </dl>\n",
              "        </div>\n",
              "        \n",
              "            </div>\n",
              "        "
            ]
          },
          "metadata": {},
          "execution_count": 4
        }
      ]
    },
    {
      "cell_type": "code",
      "source": [
        "#Carregar um arquivo com spark  .json .parquet    \n",
        "df = spark.read.csv('/content/file.csv', sep=';') "
      ],
      "metadata": {
        "id": "8UYov1qInZ6f"
      },
      "execution_count": null,
      "outputs": []
    },
    {
      "cell_type": "code",
      "source": [
        "#Exibir o dataframe\n",
        "df.show() "
      ],
      "metadata": {
        "colab": {
          "base_uri": "https://localhost:8080/"
        },
        "id": "xpkGzZvJnsut",
        "outputId": "f1e349af-4816-4240-d90a-325aacca6e72"
      },
      "execution_count": null,
      "outputs": [
        {
          "output_type": "stream",
          "name": "stdout",
          "text": [
            "+-----+----+----+\n",
            "|  _c0| _c1| _c2|\n",
            "+-----+----+----+\n",
            "| Name| Age|City|\n",
            "|Maria|  24|  BH|\n",
            "| Jose|  29|  RJ|\n",
            "| Joao|  21|  SP|\n",
            "| null|null|null|\n",
            "+-----+----+----+\n",
            "\n"
          ]
        }
      ]
    },
    {
      "cell_type": "code",
      "source": [
        "#Passando Option, podemos pegar o header do arquivo \n",
        "spark.read.option('header','true').csv('/content/file.csv', sep=';').show()"
      ],
      "metadata": {
        "colab": {
          "base_uri": "https://localhost:8080/"
        },
        "id": "m4e4YV2tnymF",
        "outputId": "4cd4d354-5f12-4994-e92f-dde872c5fe8b"
      },
      "execution_count": null,
      "outputs": [
        {
          "output_type": "stream",
          "name": "stdout",
          "text": [
            "+-----+----+----+\n",
            "| Name| Age|City|\n",
            "+-----+----+----+\n",
            "|Maria|  24|  BH|\n",
            "| Jose|  29|  RJ|\n",
            "| Joao|  21|  SP|\n",
            "| null|null|null|\n",
            "+-----+----+----+\n",
            "\n"
          ]
        }
      ]
    },
    {
      "cell_type": "code",
      "source": [
        "df_spark = spark.read.option('header','true').csv('/content/file.csv', sep=';')"
      ],
      "metadata": {
        "id": "TZpFWrrjobyE"
      },
      "execution_count": null,
      "outputs": []
    },
    {
      "cell_type": "code",
      "source": [
        "type(df_spark)"
      ],
      "metadata": {
        "colab": {
          "base_uri": "https://localhost:8080/"
        },
        "id": "CdRT05xLooPl",
        "outputId": "ff9150dd-4a18-4d56-9b69-e1bed81e3972"
      },
      "execution_count": null,
      "outputs": [
        {
          "output_type": "execute_result",
          "data": {
            "text/plain": [
              "pyspark.sql.dataframe.DataFrame"
            ]
          },
          "metadata": {},
          "execution_count": 10
        }
      ]
    },
    {
      "cell_type": "code",
      "source": [
        "df_spark.head()"
      ],
      "metadata": {
        "colab": {
          "base_uri": "https://localhost:8080/"
        },
        "id": "5gsoeBLNorOF",
        "outputId": "05746bf9-65c2-4a97-a802-a917d3ac6219"
      },
      "execution_count": null,
      "outputs": [
        {
          "output_type": "execute_result",
          "data": {
            "text/plain": [
              "Row(Name='Maria', Age='24', City='BH')"
            ]
          },
          "metadata": {},
          "execution_count": 11
        }
      ]
    },
    {
      "cell_type": "code",
      "source": [
        "# ver o esquema\n",
        "df_spark.printSchema()"
      ],
      "metadata": {
        "colab": {
          "base_uri": "https://localhost:8080/"
        },
        "id": "5Gp-oAd3o2Hc",
        "outputId": "97322443-6fac-4763-aaa0-96b0646cc699"
      },
      "execution_count": null,
      "outputs": [
        {
          "output_type": "stream",
          "name": "stdout",
          "text": [
            "root\n",
            " |-- Name: string (nullable = true)\n",
            " |-- Age: string (nullable = true)\n",
            " |-- City: string (nullable = true)\n",
            "\n"
          ]
        }
      ]
    },
    {
      "cell_type": "code",
      "source": [
        "# adicionando o inferSchema para pegar os types corretos\n",
        "df_spark = spark.read.option('header','true').csv('/content/file.csv', sep=';',inferSchema=True)"
      ],
      "metadata": {
        "id": "hHxDV21Io6fz"
      },
      "execution_count": null,
      "outputs": []
    },
    {
      "cell_type": "code",
      "source": [
        "# ver o esquema\n",
        "df_spark.printSchema()"
      ],
      "metadata": {
        "colab": {
          "base_uri": "https://localhost:8080/"
        },
        "id": "yBZNWRE9Cp7w",
        "outputId": "60031347-c02c-4268-cef8-f26abdd58303"
      },
      "execution_count": null,
      "outputs": [
        {
          "output_type": "stream",
          "name": "stdout",
          "text": [
            "root\n",
            " |-- Name: string (nullable = true)\n",
            " |-- Age: integer (nullable = true)\n",
            " |-- City: string (nullable = true)\n",
            "\n"
          ]
        }
      ]
    },
    {
      "cell_type": "code",
      "source": [
        "# adicionando o headr no read em vez de options\n",
        "df_spark = spark.read.csv('/content/file.csv', sep=';',inferSchema=True,header=True)"
      ],
      "metadata": {
        "id": "27-MXcucDFI2"
      },
      "execution_count": null,
      "outputs": []
    },
    {
      "cell_type": "code",
      "source": [
        "df_spark.show()"
      ],
      "metadata": {
        "colab": {
          "base_uri": "https://localhost:8080/"
        },
        "id": "_A2DizDdDHkt",
        "outputId": "555ce3f2-daf3-4ad6-acd6-18cbf5952f91"
      },
      "execution_count": null,
      "outputs": [
        {
          "output_type": "stream",
          "name": "stdout",
          "text": [
            "+-----+----+----+\n",
            "| Name| Age|City|\n",
            "+-----+----+----+\n",
            "|Maria|  24|  BH|\n",
            "| Jose|  29|  RJ|\n",
            "| Joao|  21|  SP|\n",
            "| null|null|null|\n",
            "+-----+----+----+\n",
            "\n"
          ]
        }
      ]
    },
    {
      "cell_type": "code",
      "source": [
        "df_spark.columns"
      ],
      "metadata": {
        "colab": {
          "base_uri": "https://localhost:8080/"
        },
        "id": "S-h6tNLaDKKU",
        "outputId": "bb33a764-ee09-43e0-a0aa-3a872dba3d3c"
      },
      "execution_count": null,
      "outputs": [
        {
          "output_type": "execute_result",
          "data": {
            "text/plain": [
              "['Name', 'Age', 'City']"
            ]
          },
          "metadata": {},
          "execution_count": 17
        }
      ]
    },
    {
      "cell_type": "code",
      "source": [
        "#selecionando uma coluna\n",
        "df_spark.select('Name').show()"
      ],
      "metadata": {
        "colab": {
          "base_uri": "https://localhost:8080/"
        },
        "id": "X2iI0C1ODaLL",
        "outputId": "01e4abf9-e750-4812-cc97-66f098f47a3c"
      },
      "execution_count": null,
      "outputs": [
        {
          "output_type": "stream",
          "name": "stdout",
          "text": [
            "+-----+\n",
            "| Name|\n",
            "+-----+\n",
            "|Maria|\n",
            "| Jose|\n",
            "| Joao|\n",
            "| null|\n",
            "+-----+\n",
            "\n"
          ]
        }
      ]
    },
    {
      "cell_type": "code",
      "source": [
        "#selecionando mais de uma coluna\n",
        "df_spark.select(['Name','Age']).show()"
      ],
      "metadata": {
        "colab": {
          "base_uri": "https://localhost:8080/"
        },
        "id": "I0o0IPf1DujD",
        "outputId": "3c6e916f-c14f-470b-c8e0-3ba4a4fe7d12"
      },
      "execution_count": null,
      "outputs": [
        {
          "output_type": "stream",
          "name": "stdout",
          "text": [
            "+-----+----+\n",
            "| Name| Age|\n",
            "+-----+----+\n",
            "|Maria|  24|\n",
            "| Jose|  29|\n",
            "| Joao|  21|\n",
            "| null|null|\n",
            "+-----+----+\n",
            "\n"
          ]
        }
      ]
    },
    {
      "cell_type": "code",
      "source": [
        "df_spark['Name']"
      ],
      "metadata": {
        "colab": {
          "base_uri": "https://localhost:8080/"
        },
        "id": "ihzAU_AvD2Ei",
        "outputId": "6b4e2eb8-8d56-4160-a82c-1f28a701f2a7"
      },
      "execution_count": null,
      "outputs": [
        {
          "output_type": "execute_result",
          "data": {
            "text/plain": [
              "Column<'Name'>"
            ]
          },
          "metadata": {},
          "execution_count": 20
        }
      ]
    },
    {
      "cell_type": "code",
      "source": [
        "#ver os data types\n",
        "df_spark.dtypes"
      ],
      "metadata": {
        "colab": {
          "base_uri": "https://localhost:8080/"
        },
        "id": "PNSHvCdoY1Ks",
        "outputId": "993a573e-c8e8-4420-a5be-ce285fdc3df3"
      },
      "execution_count": null,
      "outputs": [
        {
          "output_type": "execute_result",
          "data": {
            "text/plain": [
              "[('Name', 'string'), ('Age', 'int'), ('City', 'string')]"
            ]
          },
          "metadata": {},
          "execution_count": 21
        }
      ]
    },
    {
      "cell_type": "code",
      "source": [
        "df_spark.describe()"
      ],
      "metadata": {
        "colab": {
          "base_uri": "https://localhost:8080/"
        },
        "id": "vcWSd7qGY9M5",
        "outputId": "32bbc742-adbb-484c-c71d-62572d7cf91f"
      },
      "execution_count": null,
      "outputs": [
        {
          "output_type": "execute_result",
          "data": {
            "text/plain": [
              "DataFrame[summary: string, Name: string, Age: string, City: string]"
            ]
          },
          "metadata": {},
          "execution_count": 22
        }
      ]
    },
    {
      "cell_type": "code",
      "source": [
        "df_spark.describe().show()"
      ],
      "metadata": {
        "colab": {
          "base_uri": "https://localhost:8080/"
        },
        "id": "BmF_jBVlZBGw",
        "outputId": "b5f11f34-a84f-404a-9e1e-5a1c3c9b6540"
      },
      "execution_count": null,
      "outputs": [
        {
          "output_type": "stream",
          "name": "stdout",
          "text": [
            "+-------+-----+------------------+----+\n",
            "|summary| Name|               Age|City|\n",
            "+-------+-----+------------------+----+\n",
            "|  count|    3|                 3|   3|\n",
            "|   mean| null|24.666666666666668|null|\n",
            "| stddev| null| 4.041451884327381|null|\n",
            "|    min| Joao|                21|  BH|\n",
            "|    max|Maria|                29|  SP|\n",
            "+-------+-----+------------------+----+\n",
            "\n"
          ]
        }
      ]
    },
    {
      "cell_type": "code",
      "source": [
        "#adicionando colunas\n",
        "df_spark.withColumn('Age after 2 years', df_spark['Age']+2)"
      ],
      "metadata": {
        "colab": {
          "base_uri": "https://localhost:8080/"
        },
        "id": "6zaSTfmVZD2P",
        "outputId": "1455708d-f2a2-4315-e722-e6495f1fdd39"
      },
      "execution_count": null,
      "outputs": [
        {
          "output_type": "execute_result",
          "data": {
            "text/plain": [
              "DataFrame[Name: string, Age: int, City: string, Age after 2 years: int]"
            ]
          },
          "metadata": {},
          "execution_count": 24
        }
      ]
    },
    {
      "cell_type": "code",
      "source": [
        "df_spark = df_spark.withColumn('Age after 2 years', df_spark['Age']+2)"
      ],
      "metadata": {
        "id": "ljs8cDOYZzZK"
      },
      "execution_count": null,
      "outputs": []
    },
    {
      "cell_type": "code",
      "source": [
        "df_spark.show()"
      ],
      "metadata": {
        "colab": {
          "base_uri": "https://localhost:8080/"
        },
        "id": "OjxM7KhZZkUD",
        "outputId": "c5318d07-6f69-49ef-eaf6-45cbcafa5413"
      },
      "execution_count": null,
      "outputs": [
        {
          "output_type": "stream",
          "name": "stdout",
          "text": [
            "+-----+----+----+-----------------+\n",
            "| Name| Age|City|Age after 2 years|\n",
            "+-----+----+----+-----------------+\n",
            "|Maria|  24|  BH|               26|\n",
            "| Jose|  29|  RJ|               31|\n",
            "| Joao|  21|  SP|               23|\n",
            "| null|null|null|             null|\n",
            "+-----+----+----+-----------------+\n",
            "\n"
          ]
        }
      ]
    },
    {
      "cell_type": "code",
      "source": [
        "#removendo colunas\n",
        "df_spark.drop('Age after 2 years').show()  #não é inplance, preciso atribuir igual python"
      ],
      "metadata": {
        "colab": {
          "base_uri": "https://localhost:8080/"
        },
        "id": "9hh0_pWCZO2h",
        "outputId": "8c472cb7-e8a8-4f1b-c566-16378c3fd49a"
      },
      "execution_count": null,
      "outputs": [
        {
          "output_type": "stream",
          "name": "stdout",
          "text": [
            "+-----+----+----+\n",
            "| Name| Age|City|\n",
            "+-----+----+----+\n",
            "|Maria|  24|  BH|\n",
            "| Jose|  29|  RJ|\n",
            "| Joao|  21|  SP|\n",
            "| null|null|null|\n",
            "+-----+----+----+\n",
            "\n"
          ]
        }
      ]
    },
    {
      "cell_type": "code",
      "source": [
        "#renomeando colunas\n",
        "df_spark.withColumnRenamed('Name','New Name').show()"
      ],
      "metadata": {
        "colab": {
          "base_uri": "https://localhost:8080/"
        },
        "id": "sXzsqswtaBGK",
        "outputId": "15a78ef3-67f3-424f-c7ed-9cbc5a572768"
      },
      "execution_count": null,
      "outputs": [
        {
          "output_type": "stream",
          "name": "stdout",
          "text": [
            "+--------+----+----+-----------------+\n",
            "|New Name| Age|City|Age after 2 years|\n",
            "+--------+----+----+-----------------+\n",
            "|   Maria|  24|  BH|               26|\n",
            "|    Jose|  29|  RJ|               31|\n",
            "|    Joao|  21|  SP|               23|\n",
            "|    null|null|null|             null|\n",
            "+--------+----+----+-----------------+\n",
            "\n"
          ]
        }
      ]
    },
    {
      "cell_type": "markdown",
      "source": [
        "##tutorial 3\n",
        "\n",
        "Como tratar valores nulos"
      ],
      "metadata": {
        "id": "tWAr11o3aY-H"
      }
    },
    {
      "cell_type": "code",
      "source": [
        "from pyspark.sql import SparkSession\n",
        "spark = SparkSession.builder.appName('test').getOrCreate()"
      ],
      "metadata": {
        "id": "BUPgqOJ9aUlh"
      },
      "execution_count": 3,
      "outputs": []
    },
    {
      "cell_type": "code",
      "source": [
        "#Passando Option, podemos pegar o header do arquivo \n",
        "spark.read.option('header','true').csv('/content/teste2.csv', sep=';',inferSchema=True).show()"
      ],
      "metadata": {
        "colab": {
          "base_uri": "https://localhost:8080/"
        },
        "id": "J9S-SCnOa8An",
        "outputId": "d463249c-34f4-47d9-8bd0-e1dd4396e7f0"
      },
      "execution_count": 4,
      "outputs": [
        {
          "output_type": "stream",
          "name": "stdout",
          "text": [
            "+------+----+----------+------+\n",
            "|  Name| age|experience|salary|\n",
            "+------+----+----------+------+\n",
            "|  Kate|  31|        10| 30000|\n",
            "| Susan|  30|         8| 25000|\n",
            "|   Sun|  29|         4| 20000|\n",
            "|  Paul|  24|         3| 20000|\n",
            "|Hailey|  21|         1| 15000|\n",
            "| Shein|  23|         2| 18000|\n",
            "|Marcus|null|      null| 40000|\n",
            "|  null|  34|        10| 38000|\n",
            "|  null|  36|      null|  null|\n",
            "+------+----+----------+------+\n",
            "\n"
          ]
        }
      ]
    },
    {
      "cell_type": "code",
      "source": [
        "#Passando Option, podemos pegar o header do arquivo \n",
        "df_pyspark = spark.read.option('header','true').csv('/content/teste2.csv', sep=';',inferSchema=True)"
      ],
      "metadata": {
        "id": "DtmnR2GRbuOs"
      },
      "execution_count": 5,
      "outputs": []
    },
    {
      "cell_type": "code",
      "source": [
        "#removendo linhas específicas, baseadas em valores nulos\n",
        "df_pyspark.na.drop().show()"
      ],
      "metadata": {
        "colab": {
          "base_uri": "https://localhost:8080/"
        },
        "id": "AJG10uEXgYCy",
        "outputId": "c9d6d93d-b1e8-4dde-a75d-377b86e554d7"
      },
      "execution_count": 6,
      "outputs": [
        {
          "output_type": "stream",
          "name": "stdout",
          "text": [
            "+------+---+----------+------+\n",
            "|  Name|age|experience|salary|\n",
            "+------+---+----------+------+\n",
            "|  Kate| 31|        10| 30000|\n",
            "| Susan| 30|         8| 25000|\n",
            "|   Sun| 29|         4| 20000|\n",
            "|  Paul| 24|         3| 20000|\n",
            "|Hailey| 21|         1| 15000|\n",
            "| Shein| 23|         2| 18000|\n",
            "+------+---+----------+------+\n",
            "\n"
          ]
        }
      ]
    },
    {
      "cell_type": "code",
      "source": [
        "## how='any' = linhas com qualquer valor nulo\n",
        "## how='all' = linhas com todos valores nulos\n",
        "df_pyspark.na.drop(how='all').show()"
      ],
      "metadata": {
        "colab": {
          "base_uri": "https://localhost:8080/"
        },
        "id": "hDuRjyjOgmKs",
        "outputId": "b83ae56b-9e2b-421f-fba3-5038aba3bf24"
      },
      "execution_count": 7,
      "outputs": [
        {
          "output_type": "stream",
          "name": "stdout",
          "text": [
            "+------+----+----------+------+\n",
            "|  Name| age|experience|salary|\n",
            "+------+----+----------+------+\n",
            "|  Kate|  31|        10| 30000|\n",
            "| Susan|  30|         8| 25000|\n",
            "|   Sun|  29|         4| 20000|\n",
            "|  Paul|  24|         3| 20000|\n",
            "|Hailey|  21|         1| 15000|\n",
            "| Shein|  23|         2| 18000|\n",
            "|Marcus|null|      null| 40000|\n",
            "|  null|  34|        10| 38000|\n",
            "|  null|  36|      null|  null|\n",
            "+------+----+----------+------+\n",
            "\n"
          ]
        }
      ]
    },
    {
      "cell_type": "code",
      "source": [
        "# subset = ['nome das colunas']\n",
        "df_pyspark.na.drop(how='all',subset=['Name']).show()"
      ],
      "metadata": {
        "colab": {
          "base_uri": "https://localhost:8080/"
        },
        "id": "qXb2j6xfg749",
        "outputId": "66831954-9737-40e8-e7c6-7740a8c49c4f"
      },
      "execution_count": 18,
      "outputs": [
        {
          "output_type": "stream",
          "name": "stdout",
          "text": [
            "+------+----+----------+------+\n",
            "|  Name| age|experience|salary|\n",
            "+------+----+----------+------+\n",
            "|  Kate|  31|        10| 30000|\n",
            "| Susan|  30|         8| 25000|\n",
            "|   Sun|  29|         4| 20000|\n",
            "|  Paul|  24|         3| 20000|\n",
            "|Hailey|  21|         1| 15000|\n",
            "| Shein|  23|         2| 18000|\n",
            "|Marcus|null|      null| 40000|\n",
            "+------+----+----------+------+\n",
            "\n"
          ]
        }
      ]
    },
    {
      "cell_type": "code",
      "source": [
        "# Preenchendo valores nulos\n",
        "df_pyspark.na.fill(0,['age','experience']).show() #[nome das colunas]"
      ],
      "metadata": {
        "colab": {
          "base_uri": "https://localhost:8080/"
        },
        "id": "Yyz54mxbhKSg",
        "outputId": "7fc61a1a-d3e2-4d43-9051-e0d5ef8c297a"
      },
      "execution_count": 22,
      "outputs": [
        {
          "output_type": "stream",
          "name": "stdout",
          "text": [
            "+------+---+----------+------+\n",
            "|  Name|age|experience|salary|\n",
            "+------+---+----------+------+\n",
            "|  Kate| 31|        10| 30000|\n",
            "| Susan| 30|         8| 25000|\n",
            "|   Sun| 29|         4| 20000|\n",
            "|  Paul| 24|         3| 20000|\n",
            "|Hailey| 21|         1| 15000|\n",
            "| Shein| 23|         2| 18000|\n",
            "|Marcus|  0|         0| 40000|\n",
            "|  null| 34|        10| 38000|\n",
            "|  null| 36|         0|  null|\n",
            "+------+---+----------+------+\n",
            "\n"
          ]
        }
      ]
    },
    {
      "cell_type": "code",
      "source": [
        "from pyspark.ml.feature import Imputer\n",
        "\n",
        "imputer = Imputer(\n",
        "    inputCols=['age','experience','salary'],\n",
        "    outputCols=[\"{}_imputed\".format(c) for c in ['age','experience','salary']]\n",
        ").setStrategy(\"mean\")"
      ],
      "metadata": {
        "id": "9Up-7ZPmh7Go"
      },
      "execution_count": 23,
      "outputs": []
    },
    {
      "cell_type": "code",
      "source": [
        "#preenchi os valores nulos com a média dos valores das outras colunas\n",
        "\n",
        "imputer.fit(df_pyspark).transform(df_pyspark).show()"
      ],
      "metadata": {
        "colab": {
          "base_uri": "https://localhost:8080/"
        },
        "id": "f-dkCCrOi9tp",
        "outputId": "2a9d6d7f-4a59-4096-e421-f38ad4919255"
      },
      "execution_count": 24,
      "outputs": [
        {
          "output_type": "stream",
          "name": "stdout",
          "text": [
            "+------+----+----------+------+-----------+------------------+--------------+\n",
            "|  Name| age|experience|salary|age_imputed|experience_imputed|salary_imputed|\n",
            "+------+----+----------+------+-----------+------------------+--------------+\n",
            "|  Kate|  31|        10| 30000|         31|                10|         30000|\n",
            "| Susan|  30|         8| 25000|         30|                 8|         25000|\n",
            "|   Sun|  29|         4| 20000|         29|                 4|         20000|\n",
            "|  Paul|  24|         3| 20000|         24|                 3|         20000|\n",
            "|Hailey|  21|         1| 15000|         21|                 1|         15000|\n",
            "| Shein|  23|         2| 18000|         23|                 2|         18000|\n",
            "|Marcus|null|      null| 40000|         28|                 5|         40000|\n",
            "|  null|  34|        10| 38000|         34|                10|         38000|\n",
            "|  null|  36|      null|  null|         36|                 5|         25750|\n",
            "+------+----+----------+------+-----------+------------------+--------------+\n",
            "\n"
          ]
        }
      ]
    },
    {
      "cell_type": "markdown",
      "source": [
        "##tutorial 4\n",
        "\n",
        "Filter = >=  <=  and or"
      ],
      "metadata": {
        "id": "71Gv3_-6jUCl"
      }
    },
    {
      "cell_type": "code",
      "source": [
        "#Passando Option, podemos pegar o header do arquivo \n",
        "df_pyspark = spark.read.option('header','true').csv('/content/teste2.csv', sep=';',inferSchema=True)\n",
        "\n",
        "#removendo nulos\n",
        "df_pyspark = df_pyspark.na.drop()\n",
        "\n",
        "#exibindo\n",
        "df_pyspark.show()"
      ],
      "metadata": {
        "colab": {
          "base_uri": "https://localhost:8080/"
        },
        "id": "3EFBeyifjD6L",
        "outputId": "1b73c727-8b6e-42d4-fe9d-0df1be10cc76"
      },
      "execution_count": 26,
      "outputs": [
        {
          "output_type": "stream",
          "name": "stdout",
          "text": [
            "+------+---+----------+------+\n",
            "|  Name|age|experience|salary|\n",
            "+------+---+----------+------+\n",
            "|  Kate| 31|        10| 30000|\n",
            "| Susan| 30|         8| 25000|\n",
            "|   Sun| 29|         4| 20000|\n",
            "|  Paul| 24|         3| 20000|\n",
            "|Hailey| 21|         1| 15000|\n",
            "| Shein| 23|         2| 18000|\n",
            "+------+---+----------+------+\n",
            "\n"
          ]
        }
      ]
    },
    {
      "cell_type": "code",
      "source": [
        "## Operações com filtros \n",
        "\n",
        "# Filtrar salario menores ou igual a 20000\n",
        "\n",
        "df_pyspark.filter(\"salary <= 20000\").show()"
      ],
      "metadata": {
        "colab": {
          "base_uri": "https://localhost:8080/"
        },
        "id": "DxTCvmJjj8mu",
        "outputId": "2cfd120d-a844-4dee-c763-19c9bea35390"
      },
      "execution_count": 27,
      "outputs": [
        {
          "output_type": "stream",
          "name": "stdout",
          "text": [
            "+------+---+----------+------+\n",
            "|  Name|age|experience|salary|\n",
            "+------+---+----------+------+\n",
            "|   Sun| 29|         4| 20000|\n",
            "|  Paul| 24|         3| 20000|\n",
            "|Hailey| 21|         1| 15000|\n",
            "| Shein| 23|         2| 18000|\n",
            "+------+---+----------+------+\n",
            "\n"
          ]
        }
      ]
    },
    {
      "cell_type": "code",
      "source": [
        "#filtrando e selecionando colunas\n",
        "df_pyspark.filter(\"salary <= 20000\").select(['Name','age']).show()"
      ],
      "metadata": {
        "colab": {
          "base_uri": "https://localhost:8080/"
        },
        "id": "Jk0ZhgtokhUb",
        "outputId": "a6cf7747-9e31-45bc-e598-c71aa619c8a1"
      },
      "execution_count": 28,
      "outputs": [
        {
          "output_type": "stream",
          "name": "stdout",
          "text": [
            "+------+---+\n",
            "|  Name|age|\n",
            "+------+---+\n",
            "|   Sun| 29|\n",
            "|  Paul| 24|\n",
            "|Hailey| 21|\n",
            "| Shein| 23|\n",
            "+------+---+\n",
            "\n"
          ]
        }
      ]
    },
    {
      "cell_type": "code",
      "source": [
        "#outro jeito de filtrar\n",
        "df_pyspark.filter(df_pyspark['salary'] <= 20000).show()"
      ],
      "metadata": {
        "colab": {
          "base_uri": "https://localhost:8080/"
        },
        "id": "ZmJkCmFYkp0X",
        "outputId": "a8c446d7-56eb-4e04-b05a-4eda2c15e1c3"
      },
      "execution_count": 30,
      "outputs": [
        {
          "output_type": "stream",
          "name": "stdout",
          "text": [
            "+------+---+----------+------+\n",
            "|  Name|age|experience|salary|\n",
            "+------+---+----------+------+\n",
            "|   Sun| 29|         4| 20000|\n",
            "|  Paul| 24|         3| 20000|\n",
            "|Hailey| 21|         1| 15000|\n",
            "| Shein| 23|         2| 18000|\n",
            "+------+---+----------+------+\n",
            "\n"
          ]
        }
      ]
    },
    {
      "cell_type": "code",
      "source": [
        "# mais de 1 condição dentro do filter\n",
        "df_pyspark.filter((df_pyspark['salary'] <= 20000) & # ou é o simbolo: |   \n",
        "                  (df_pyspark['age'] > 23 )).show()"
      ],
      "metadata": {
        "colab": {
          "base_uri": "https://localhost:8080/"
        },
        "id": "xPy6lK_1lChx",
        "outputId": "26bc9a0c-2473-4fbd-ab41-e905b55c99ba"
      },
      "execution_count": 34,
      "outputs": [
        {
          "output_type": "stream",
          "name": "stdout",
          "text": [
            "+----+---+----------+------+\n",
            "|Name|age|experience|salary|\n",
            "+----+---+----------+------+\n",
            "| Sun| 29|         4| 20000|\n",
            "|Paul| 24|         3| 20000|\n",
            "+----+---+----------+------+\n",
            "\n"
          ]
        }
      ]
    },
    {
      "cell_type": "code",
      "source": [
        "# negando o filtro com ~ \n",
        "df_pyspark.filter(~(df_pyspark['salary'] <= 20000)).show()"
      ],
      "metadata": {
        "colab": {
          "base_uri": "https://localhost:8080/"
        },
        "id": "nNYjLKfDlOVP",
        "outputId": "170bd3d4-e6fa-45e5-f7e3-ba1242768bd6"
      },
      "execution_count": 35,
      "outputs": [
        {
          "output_type": "stream",
          "name": "stdout",
          "text": [
            "+-----+---+----------+------+\n",
            "| Name|age|experience|salary|\n",
            "+-----+---+----------+------+\n",
            "| Kate| 31|        10| 30000|\n",
            "|Susan| 30|         8| 25000|\n",
            "+-----+---+----------+------+\n",
            "\n"
          ]
        }
      ]
    },
    {
      "cell_type": "markdown",
      "source": [
        "##Tutorial 5 \n",
        "\n",
        "Groupby e aggregated functions\n"
      ],
      "metadata": {
        "id": "BYTiwWMfmQ92"
      }
    },
    {
      "cell_type": "code",
      "source": [
        "#Passando Option, podemos pegar o header do arquivo \n",
        "df_pyspark = spark.read.option('header','true').csv('/content/teste2.csv', sep=';',inferSchema=True)\n",
        "\n",
        "#removendo nulos\n",
        "df_pyspark = df_pyspark.na.drop()\n",
        "\n",
        "#exibindo\n",
        "df_pyspark.show()"
      ],
      "metadata": {
        "colab": {
          "base_uri": "https://localhost:8080/"
        },
        "id": "z4hKz8oqlr_7",
        "outputId": "d9026947-4ff3-4cc3-aa2d-08f97f65294e"
      },
      "execution_count": 4,
      "outputs": [
        {
          "output_type": "stream",
          "name": "stdout",
          "text": [
            "+------+---+----------+------+\n",
            "|  Name|age|experience|salary|\n",
            "+------+---+----------+------+\n",
            "|  Kate| 31|        10| 30000|\n",
            "| Susan| 30|         8| 25000|\n",
            "|   Sun| 29|         4| 20000|\n",
            "|  Paul| 24|         3| 20000|\n",
            "|Hailey| 21|         1| 15000|\n",
            "| Shein| 23|         2| 18000|\n",
            "+------+---+----------+------+\n",
            "\n"
          ]
        }
      ]
    },
    {
      "cell_type": "code",
      "source": [
        "#criando uma função pra definir senioridade\n",
        "def seniority(years):\n",
        "  if 0 <= years < 4:\n",
        "    seniority = 'junior' \n",
        "  elif 4 <= years < 8:\n",
        "    seniority = 'pleno'\n",
        "  elif years >= 8  :\n",
        "    seniority = 'senior'\n",
        "  return seniority"
      ],
      "metadata": {
        "id": "K496tfRMmknT"
      },
      "execution_count": 5,
      "outputs": []
    },
    {
      "cell_type": "code",
      "source": [
        "from pyspark.sql.functions import col, udf\n",
        "reg = udf(lambda q: seniority(q))"
      ],
      "metadata": {
        "id": "iv_aYNAaoO3O"
      },
      "execution_count": 6,
      "outputs": []
    },
    {
      "cell_type": "code",
      "source": [
        "#criando uma coluna de senioridade\n",
        "df_pyspark.withColumn('seniority',reg(col(\"experience\"))).show()"
      ],
      "metadata": {
        "colab": {
          "base_uri": "https://localhost:8080/"
        },
        "id": "Wp2ziMSFmmIb",
        "outputId": "6a87d474-f463-4cc3-813e-eea6115c2322"
      },
      "execution_count": 7,
      "outputs": [
        {
          "output_type": "stream",
          "name": "stdout",
          "text": [
            "+------+---+----------+------+---------+\n",
            "|  Name|age|experience|salary|seniority|\n",
            "+------+---+----------+------+---------+\n",
            "|  Kate| 31|        10| 30000|   senior|\n",
            "| Susan| 30|         8| 25000|   senior|\n",
            "|   Sun| 29|         4| 20000|    pleno|\n",
            "|  Paul| 24|         3| 20000|   junior|\n",
            "|Hailey| 21|         1| 15000|   junior|\n",
            "| Shein| 23|         2| 18000|   junior|\n",
            "+------+---+----------+------+---------+\n",
            "\n"
          ]
        }
      ]
    },
    {
      "cell_type": "code",
      "source": [
        "df_pyspark = df_pyspark.withColumn('seniority',reg(col(\"experience\")))"
      ],
      "metadata": {
        "id": "DTNGl6xDoiJb"
      },
      "execution_count": 8,
      "outputs": []
    },
    {
      "cell_type": "code",
      "source": [
        "#groupby\n",
        "# aggregate .agg  .avg  .sum .max .mean .min\n",
        "\n",
        "df_pyspark.groupBy('seniority').sum().show()"
      ],
      "metadata": {
        "colab": {
          "base_uri": "https://localhost:8080/"
        },
        "id": "Pg3Qr8H3osVE",
        "outputId": "b15b8c37-fb6b-491b-8196-65b6a8a3094e"
      },
      "execution_count": 10,
      "outputs": [
        {
          "output_type": "stream",
          "name": "stdout",
          "text": [
            "+---------+--------+---------------+-----------+\n",
            "|seniority|sum(age)|sum(experience)|sum(salary)|\n",
            "+---------+--------+---------------+-----------+\n",
            "|    pleno|      29|              4|      20000|\n",
            "|   junior|      68|              6|      53000|\n",
            "|   senior|      61|             18|      55000|\n",
            "+---------+--------+---------------+-----------+\n",
            "\n"
          ]
        }
      ]
    },
    {
      "cell_type": "code",
      "source": [
        "#groupby\n",
        "# aggregate .agg  .avg  .sum .max .mean .min\n",
        "\n",
        "df_pyspark.groupBy('seniority').mean().show()"
      ],
      "metadata": {
        "colab": {
          "base_uri": "https://localhost:8080/"
        },
        "id": "48BPqCP0ulQV",
        "outputId": "db1ea27b-eb16-4855-8bd1-7e95ed5faca6"
      },
      "execution_count": 14,
      "outputs": [
        {
          "output_type": "stream",
          "name": "stdout",
          "text": [
            "+---------+------------------+---------------+------------------+\n",
            "|seniority|          avg(age)|avg(experience)|       avg(salary)|\n",
            "+---------+------------------+---------------+------------------+\n",
            "|    pleno|              29.0|            4.0|           20000.0|\n",
            "|   junior|22.666666666666668|            2.0|17666.666666666668|\n",
            "|   senior|              30.5|            9.0|           27500.0|\n",
            "+---------+------------------+---------------+------------------+\n",
            "\n"
          ]
        }
      ]
    },
    {
      "cell_type": "code",
      "source": [
        "#ordenando   .desc() ou .asc()\n",
        "df_pyspark.orderBy(df_pyspark.salary.asc()).show()"
      ],
      "metadata": {
        "colab": {
          "base_uri": "https://localhost:8080/"
        },
        "id": "UVKBJ14yvSP9",
        "outputId": "1bc21581-13c6-4d61-9ace-35e7d28c1e39"
      },
      "execution_count": 16,
      "outputs": [
        {
          "output_type": "stream",
          "name": "stdout",
          "text": [
            "+------+---+----------+------+---------+\n",
            "|  Name|age|experience|salary|seniority|\n",
            "+------+---+----------+------+---------+\n",
            "|Hailey| 21|         1| 15000|   junior|\n",
            "| Shein| 23|         2| 18000|   junior|\n",
            "|   Sun| 29|         4| 20000|    pleno|\n",
            "|  Paul| 24|         3| 20000|   junior|\n",
            "| Susan| 30|         8| 25000|   senior|\n",
            "|  Kate| 31|        10| 30000|   senior|\n",
            "+------+---+----------+------+---------+\n",
            "\n"
          ]
        }
      ]
    },
    {
      "cell_type": "code",
      "source": [
        ""
      ],
      "metadata": {
        "id": "nGeYTGRXwUr7"
      },
      "execution_count": null,
      "outputs": []
    }
  ]
}